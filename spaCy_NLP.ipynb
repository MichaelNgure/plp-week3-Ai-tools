{
 "cells": [
  {
   "cell_type": "code",
   "execution_count": null,
   "id": "05311e14",
   "metadata": {},
   "outputs": [],
   "source": [
    "# Import spacy\n",
    "import spacy\n",
    "\n",
    "# Load the English NLP model\n",
    "nlp = spacy.load(\"en_core_web_sm\")\n",
    "\n",
    "# Sample Amazon Reviews\n",
    "reviews = [\n",
    "    \"I absolutely love this product! It has changed my life for the better.\",\n",
    "    \"The product is okay, but it didn't meet my expectations.\",\n",
    "    \"Terrible quality. Broke after one use. Would not recommend to anyone.\",\n",
    "    \"Fantastic value for the price. Exceeded all my expectations!\",\n",
    "    \"Mediocre at best. There are definitely better options out there.\"\n",
    "]\n",
    "\n",
    "# Perfrom Named Entity Recognition (NER) on each review\n",
    "print(\"Named Entities in Amazon Reviews:\\n\")\n",
    "\n",
    "for review in reviews:\n",
    "    doc = nlp(review)\n",
    "    print(f\"Review: {review}\")\n",
    "    for ent in doc.ents:\n",
    "        print(f\" - Entity: {ent.text}, Label: {ent.label_}\")\n",
    "    print('-' * 50)\n",
    "\n",
    "# Simple Rule-Based Sentiment Analysis\n",
    "def simple_sentiment_analysis(text):\n",
    "    positive_words = [\"love\", \"fantastic\", \"exceeded\", \"great\", \"excellent\", \"amazing\", \"best\"]\n",
    "    negative_words = [\"terrible\", \"broke\", \"mediocre\", \"worst\", \"disappointing\", \"bad\", \"awful\"]\n",
    "    score = 0\n",
    "    for word in positive_words:\n",
    "        if word in text.lower():\n",
    "            score += 1\n",
    "    for word in negative_words:\n",
    "        if word in text.lower():\n",
    "            score -= 1\n",
    "\n",
    "    return \"Positive\" if score > 0 else \"Negative\" if score < 0 else \"Neutral\"\n",
    "\n",
    "print(\"\\nSentiment Analysis of Amazon Reviews:\\n\")\n",
    "for review in reviews:\n",
    "    sentiment = simple_sentiment_analysis(review)\n",
    "    print(f\"Review: {review}\")\n",
    "    print(f\" Sentiment: {sentiment}\")\n",
    "    print('-' * 50)\n",
    "\n",
    "    \n"
   ]
  }
 ],
 "metadata": {
  "language_info": {
   "name": "python"
  }
 },
 "nbformat": 4,
 "nbformat_minor": 5
}
